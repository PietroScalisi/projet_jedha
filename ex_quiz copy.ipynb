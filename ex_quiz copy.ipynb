{
 "cells": [
  {
   "cell_type": "code",
   "execution_count": null,
   "metadata": {},
   "outputs": [],
   "source": [
    "nb_chances = 3\n",
    "question = {}\n",
    "question[0] = {\"Combien de fois la France a gagné la coupe du monde ? \"}\n",
    "question[1] = {\"Quand a été fondé Apple ? \"}\n",
    "question[2] = {\"Qui a fondé SpaceX ? \"}\n",
    "def chances():\n",
    "\n",
    "\n",
    "print(\"Ines est blonde\")"
   ]
  }
 ],
 "metadata": {
  "language_info": {
   "name": "python"
  }
 },
 "nbformat": 4,
 "nbformat_minor": 2
}
